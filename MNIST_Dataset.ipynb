{
  "nbformat": 4,
  "nbformat_minor": 0,
  "metadata": {
    "colab": {
      "provenance": [],
      "gpuType": "T4"
    },
    "kernelspec": {
      "name": "python3",
      "display_name": "Python 3"
    },
    "language_info": {
      "name": "python"
    },
    "accelerator": "GPU"
  },
  "cells": [
    {
      "cell_type": "code",
      "execution_count": 1,
      "metadata": {
        "id": "3CKKs38a-CTU"
      },
      "outputs": [],
      "source": [
        "import torch\n",
        "import torch.nn as nn\n",
        "import torchvision\n",
        "import torchvision.transforms as transforms\n",
        "import matplotlib.pyplot as plt"
      ]
    },
    {
      "cell_type": "code",
      "source": [
        "device=torch.device('cuda' if torch.cuda.is_available() else 'cpu')"
      ],
      "metadata": {
        "id": "LrsG5_J_-Z3Y"
      },
      "execution_count": 2,
      "outputs": []
    },
    {
      "cell_type": "code",
      "source": [
        "input_size=784\n",
        "hidden_size=500\n",
        "num_classes=10\n",
        "num_epochs=5\n",
        "batch_size=100\n",
        "learning_rate=0.001\n",
        "\n",
        "train_dataset=torchvision.datasets.MNIST(root='./data',transform=transforms.ToTensor(),train=True,download=True)\n",
        "test_dataset=torchvision.datasets.MNIST(root='./data',transform=transforms.ToTensor(),train=False,download=True)"
      ],
      "metadata": {
        "id": "B6j7XSA4-r62",
        "colab": {
          "base_uri": "https://localhost:8080/"
        },
        "outputId": "d535f387-28d6-4d72-c1b3-b6fcd1c9eaf0"
      },
      "execution_count": 3,
      "outputs": [
        {
          "output_type": "stream",
          "name": "stderr",
          "text": [
            "100%|██████████| 9.91M/9.91M [00:00<00:00, 38.7MB/s]\n",
            "100%|██████████| 28.9k/28.9k [00:00<00:00, 1.23MB/s]\n",
            "100%|██████████| 1.65M/1.65M [00:00<00:00, 10.8MB/s]\n",
            "100%|██████████| 4.54k/4.54k [00:00<00:00, 5.00MB/s]\n"
          ]
        }
      ]
    },
    {
      "cell_type": "code",
      "source": [
        "train_loader=torch.utils.data.DataLoader(dataset=train_dataset,batch_size=batch_size,shuffle=True)\n",
        "test_loader=torch.utils.data.DataLoader(dataset=test_dataset,batch_size=batch_size,shuffle=False)"
      ],
      "metadata": {
        "id": "uQy6n6h1_UCD"
      },
      "execution_count": 4,
      "outputs": []
    },
    {
      "cell_type": "code",
      "source": [
        "examples=iter(test_loader)\n",
        "example_data,example_target=next(examples)\n",
        "for i in range(6):\n",
        "  plt.subplot(2,3,i+1)\n",
        "  plt.imshow(example_data[i][0],cmap='gray')\n",
        "plt.show()"
      ],
      "metadata": {
        "colab": {
          "base_uri": "https://localhost:8080/",
          "height": 411
        },
        "id": "jp8kc9fM_mKe",
        "outputId": "47624737-d19d-418b-bb17-0422165897aa"
      },
      "execution_count": 22,
      "outputs": [
        {
          "output_type": "display_data",
          "data": {
            "text/plain": [
              "<Figure size 640x480 with 6 Axes>"
            ],
            "image/png": "[encoded data removed]"
          },
          "metadata": {}
        }
      ]
    },
    {
      "cell_type": "code",
      "source": [
        "class NeuralNet(nn.Module):\n",
        "  def __init__(self,input_size,hidden_size,num_classes):\n",
        "    super(NeuralNet,self).__init__()\n",
        "    self.l1=nn.Linear(input_size,hidden_size)\n",
        "    self.relu=nn.ReLU()\n",
        "    self.l2=nn.Linear(hidden_size,num_classes)\n",
        "\n",
        "  def forward(self,x):\n",
        "    out=self.l1(x)\n",
        "    out=self.relu(out)\n",
        "    out=self.l2(out)\n",
        "    return out\n",
        "\n",
        "model=NeuralNet(input_size,hidden_size,num_classes).to(device)"
      ],
      "metadata": {
        "id": "gBfLcw9VAGyX"
      },
      "execution_count": 6,
      "outputs": []
    },
    {
      "cell_type": "code",
      "source": [
        "criterion=nn.CrossEntropyLoss()\n",
        "optimizer=torch.optim.Adam(model.parameters(),lr=learning_rate)"
      ],
      "metadata": {
        "id": "NZB_yonTBfUS"
      },
      "execution_count": 7,
      "outputs": []
    },
    {
      "cell_type": "code",
      "source": [
        "n_total_steps=len(train_loader)\n",
        "for epochs in range(num_epochs):\n",
        "  for i,(images,labels) in enumerate(train_loader):\n",
        "    images=images.reshape(-1,28*28).to(device)\n",
        "    labels=labels.to(device)\n",
        "\n",
        "    outputs=model(images)\n",
        "    loss=criterion(outputs,labels)\n",
        "\n",
        "    loss.backward()\n",
        "    optimizer.step()\n",
        "    optimizer.zero_grad()\n",
        "\n",
        "    if (i+1)%100==0:\n",
        "      print(f'Epoch [{epochs+1}/{num_epochs}], Steps=[{i+1}/{n_total_steps}], Loss= {loss.item():.4f}')"
      ],
      "metadata": {
        "colab": {
          "base_uri": "https://localhost:8080/"
        },
        "id": "ObPCxUSVCEN6",
        "outputId": "f883dd2f-50a9-4f0a-85b1-589dfff67475"
      },
      "execution_count": 8,
      "outputs": [
        {
          "output_type": "stream",
          "name": "stdout",
          "text": [
            "Epoch [1/5], Steps=[100/600], Loss= 0.3475\n",
            "Epoch [1/5], Steps=[200/600], Loss= 0.2774\n",
            "Epoch [1/5], Steps=[300/600], Loss= 0.1736\n",
            "Epoch [1/5], Steps=[400/600], Loss= 0.1785\n",
            "Epoch [1/5], Steps=[500/600], Loss= 0.1549\n",
            "Epoch [1/5], Steps=[600/600], Loss= 0.1694\n",
            "Epoch [2/5], Steps=[100/600], Loss= 0.1406\n",
            "Epoch [2/5], Steps=[200/600], Loss= 0.2113\n",
            "Epoch [2/5], Steps=[300/600], Loss= 0.1249\n",
            "Epoch [2/5], Steps=[400/600], Loss= 0.0606\n",
            "Epoch [2/5], Steps=[500/600], Loss= 0.0952\n",
            "Epoch [2/5], Steps=[600/600], Loss= 0.0744\n",
            "Epoch [3/5], Steps=[100/600], Loss= 0.0464\n",
            "Epoch [3/5], Steps=[200/600], Loss= 0.0391\n",
            "Epoch [3/5], Steps=[300/600], Loss= 0.0501\n",
            "Epoch [3/5], Steps=[400/600], Loss= 0.0772\n",
            "Epoch [3/5], Steps=[500/600], Loss= 0.1060\n",
            "Epoch [3/5], Steps=[600/600], Loss= 0.0448\n",
            "Epoch [4/5], Steps=[100/600], Loss= 0.0706\n",
            "Epoch [4/5], Steps=[200/600], Loss= 0.0811\n",
            "Epoch [4/5], Steps=[300/600], Loss= 0.0745\n",
            "Epoch [4/5], Steps=[400/600], Loss= 0.0148\n",
            "Epoch [4/5], Steps=[500/600], Loss= 0.0329\n",
            "Epoch [4/5], Steps=[600/600], Loss= 0.0647\n",
            "Epoch [5/5], Steps=[100/600], Loss= 0.0300\n",
            "Epoch [5/5], Steps=[200/600], Loss= 0.0303\n",
            "Epoch [5/5], Steps=[300/600], Loss= 0.0404\n",
            "Epoch [5/5], Steps=[400/600], Loss= 0.0245\n",
            "Epoch [5/5], Steps=[500/600], Loss= 0.0109\n",
            "Epoch [5/5], Steps=[600/600], Loss= 0.0307\n"
          ]
        }
      ]
    },
    {
      "cell_type": "code",
      "source": [
        "with torch.no_grad():\n",
        "  n_correct=0\n",
        "  n_samples=len(test_loader.dataset)\n",
        "\n",
        "  for images,labels in test_loader:\n",
        "    images=images.reshape(-1,28*28).to(device)\n",
        "    labels=labels.to(device)\n",
        "\n",
        "    outputs=model(images)\n",
        "\n",
        "    _,predictions=torch.max(outputs,1)\n",
        "    n_correct+=(predictions==labels).sum().item()\n",
        "\n",
        "    acc=n_correct/n_samples\n",
        "  print(f'Accuracy of the model on {n_samples} test images is: {acc*100} %')"
      ],
      "metadata": {
        "colab": {
          "base_uri": "https://localhost:8080/"
        },
        "id": "cMiTX2UYFRRA",
        "outputId": "2efb229c-10bd-41b2-c21d-8a0d0114d233"
      },
      "execution_count": 9,
      "outputs": [
        {
          "output_type": "stream",
          "name": "stdout",
          "text": [
            "Accuracy of the model on 10000 test images is: 97.97 %\n"
          ]
        }
      ]
    },
    {
      "cell_type": "code",
      "source": [
        "\n",
        "import torch\n",
        "import torch.nn.functional as F\n",
        "import matplotlib.pyplot as plt\n",
        "\n",
        "# Assume `model` is a trained network with softmax at the end\n",
        "model.eval()\n",
        "\n",
        "# 1. Create a random image with gradients enabled\n",
        "image = example_data[1][0]\n",
        "image=image.reshape(-1,28*28)\n",
        "image.requires_grad = True\n",
        "\n",
        "# 2. Choose the target class (e.g., '1')\n",
        "target_class = 2\n",
        "\n",
        "# 3. Optimizer will update the image\n",
        "optimizer = torch.optim.Adam([image], lr=0.1)\n",
        "\n",
        "# 4. Optimize for high confidence in class 1\n",
        "for i in range(200):\n",
        "    optimizer.zero_grad()\n",
        "    logits = model(image)                      # shape: [1, 10]\n",
        "    probs = F.softmax(logits, dim=1)           # ensure output is prob distribution\n",
        "    target_prob = probs[0, target_class]       # probability of target class\n",
        "\n",
        "    loss = -torch.log(target_prob + 1e-8)       # maximize probability of target class\n",
        "    loss.backward()\n",
        "    optimizer.step()\n",
        "\n",
        "    image.data.clamp_(0, 1)  # optional: constrain pixel values to image-like range\n",
        "\n",
        "# 5. Plot the resulting image\n",
        "img_np = image.detach().cpu().squeeze().numpy()\n",
        "img_np=img_np.reshape(28,28)\n",
        "plt.imshow(img_np, cmap='gray')\n",
        "plt.title(f'Optimized for class {target_class}')\n",
        "plt.colorbar()\n",
        "plt.show()\n"
      ],
      "metadata": {
        "id": "9nV4ls35H6bD",
        "colab": {
          "base_uri": "https://localhost:8080/",
          "height": 452
        },
        "outputId": "cd28ffb9-df64-49a7-94d0-87cf493dbccc"
      },
      "execution_count": 28,
      "outputs": [
        {
          "output_type": "display_data",
          "data": {
            "text/plain": [
              "<Figure size 640x480 with 2 Axes>"
            ],
            "image/png": "[encoded data removed]"
          },
          "metadata": {}
        }
      ]
    },
    {
      "cell_type": "code",
      "source": [],
      "metadata": {
        "id": "QxKmUOpWE8YO"
      },
      "execution_count": null,
      "outputs": []
    }
  ]
}